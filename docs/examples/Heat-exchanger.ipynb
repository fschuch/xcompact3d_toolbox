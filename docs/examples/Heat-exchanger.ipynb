{
 "cells": [
  {
   "cell_type": "markdown",
   "metadata": {},
   "source": [
    "# Periodic Heat Exchanger"
   ]
  },
  {
   "cell_type": "markdown",
   "metadata": {},
   "source": [
    "![image info](Heat-exchanger.jpg)"
   ]
  },
  {
   "cell_type": "code",
   "execution_count": null,
   "metadata": {},
   "outputs": [],
   "source": [
    "import matplotlib.pyplot as plt\n",
    "import numpy as np\n",
    "\n",
    "import xcompact3d_toolbox as x3d"
   ]
  },
  {
   "cell_type": "markdown",
   "metadata": {},
   "source": [
    "## Parameters"
   ]
  },
  {
   "cell_type": "markdown",
   "metadata": {},
   "source": [
    "+ Numerical precision\n",
    "\n",
    "Use `np.float64` if Xcompact3d was compiled with the flag `-DDOUBLE_PREC`, use `np.float32` otherwise."
   ]
  },
  {
   "cell_type": "code",
   "execution_count": null,
   "metadata": {},
   "outputs": [],
   "source": [
    "x3d.param[\"mytype\"] = np.float64"
   ]
  },
  {
   "cell_type": "markdown",
   "metadata": {},
   "source": [
    "* Xcompact3d's parameters\n",
    "\n",
    "For more information about them, checkout the [API reference](https://docs.fschuch.com/xcompact3d_toolbox/references/api-reference.html#xcompact3d_toolbox.parameters.Parameters)."
   ]
  },
  {
   "cell_type": "code",
   "execution_count": null,
   "metadata": {},
   "outputs": [],
   "source": [
    "prm = x3d.Parameters(\n",
    "    filename=\"input.i3d\",\n",
    "    # BasicParam\n",
    "    itype=12,\n",
    "    p_row=0,\n",
    "    p_col=0,\n",
    "    nx=128,\n",
    "    ny=129,\n",
    "    nz=8,\n",
    "    xlx=6.0,\n",
    "    yly=6.0,\n",
    "    zlz=0.375,\n",
    "    nclx1=0,\n",
    "    nclxn=0,\n",
    "    ncly1=2,\n",
    "    nclyn=2,\n",
    "    nclz1=0,\n",
    "    nclzn=0,\n",
    "    iin=1,\n",
    "    re=300.0,\n",
    "    init_noise=0.0125,\n",
    "    inflow_noise=0.0,\n",
    "    dt=0.0025,\n",
    "    ifirst=1,\n",
    "    ilast=90000,\n",
    "    ilesmod=1,\n",
    "    iibm=2,\n",
    "    gravx=0.0,\n",
    "    gravy=-1.0,\n",
    "    gravz=0.0,\n",
    "    # NumOptions\n",
    "    nu0nu=4.0,\n",
    "    cnu=0.44,\n",
    "    # InOutParam\n",
    "    irestart=0,\n",
    "    icheckpoint=45000,\n",
    "    ioutput=500,\n",
    "    iprocessing=100,\n",
    "    # LESModel\n",
    "    jles=4,\n",
    "    # ScalarParam\n",
    "    numscalar=1,\n",
    "    nclxS1=0,\n",
    "    nclxSn=0,\n",
    "    nclyS1=2,\n",
    "    nclySn=2,\n",
    "    nclzS1=0,\n",
    "    nclzSn=0,\n",
    "    sc=[1.0],\n",
    "    ri=[-0.25],\n",
    "    uset=[0.0],\n",
    "    cp=[1.0],\n",
    ")"
   ]
  },
  {
   "cell_type": "markdown",
   "metadata": {},
   "source": [
    "## Setup"
   ]
  },
  {
   "cell_type": "markdown",
   "metadata": {},
   "source": [
    "### Geometry"
   ]
  },
  {
   "cell_type": "markdown",
   "metadata": {},
   "source": [
    "Everything needed is in one dictionary of Arrays (see [API reference](https://docs.fschuch.com/xcompact3d_toolbox/references/api-reference.html#xcompact3d_toolbox.sandbox.init_epsi)):"
   ]
  },
  {
   "cell_type": "code",
   "execution_count": null,
   "metadata": {},
   "outputs": [],
   "source": [
    "epsi = x3d.init_epsi(prm)"
   ]
  },
  {
   "cell_type": "markdown",
   "metadata": {},
   "source": [
    "The four $\\epsilon$ matrices are stored in a dictionary:"
   ]
  },
  {
   "cell_type": "code",
   "execution_count": null,
   "metadata": {},
   "outputs": [],
   "source": [
    "epsi.keys()"
   ]
  },
  {
   "cell_type": "markdown",
   "metadata": {},
   "source": [
    "Now we draw a cylinder:"
   ]
  },
  {
   "cell_type": "code",
   "execution_count": null,
   "metadata": {},
   "outputs": [],
   "source": [
    "# And apply geo.cylinder over the four arrays\n",
    "for key in epsi:\n",
    "    epsi[key] = epsi[key].geo.cylinder(\n",
    "        x=prm.xlx / 2.0,\n",
    "        y=prm.yly / 2.0,\n",
    "    )\n",
    "\n",
    "# A quickie plot for reference\n",
    "epsi[\"epsi\"].sel(z=0, method=\"nearest\").plot(x=\"x\", aspect=1, size=5)"
   ]
  },
  {
   "cell_type": "markdown",
   "metadata": {},
   "source": [
    "The next step is to produce all the auxiliary files describing the geometry, so then Xcompact3d can read them:"
   ]
  },
  {
   "cell_type": "code",
   "execution_count": null,
   "metadata": {},
   "outputs": [],
   "source": [
    "%%time\n",
    "dataset = x3d.gene_epsi_3d(epsi, prm)\n",
    "\n",
    "prm.nobjmax = dataset.obj.size\n",
    "\n",
    "dataset"
   ]
  },
  {
   "cell_type": "markdown",
   "metadata": {},
   "source": [
    "### Boundary Condition"
   ]
  },
  {
   "cell_type": "markdown",
   "metadata": {},
   "source": [
    "Everything needed is in one Dataset (see [API reference](https://docs.fschuch.com/xcompact3d_toolbox/references/api-reference.html#xcompact3d_toolbox.sandbox.init_dataset)):"
   ]
  },
  {
   "cell_type": "code",
   "execution_count": null,
   "metadata": {},
   "outputs": [],
   "source": [
    "ds = x3d.init_dataset(prm)"
   ]
  },
  {
   "cell_type": "markdown",
   "metadata": {},
   "source": [
    "Let's see it, data and attributes are attached, try to interact with the icons:"
   ]
  },
  {
   "cell_type": "code",
   "execution_count": null,
   "metadata": {},
   "outputs": [],
   "source": [
    "ds"
   ]
  },
  {
   "cell_type": "markdown",
   "metadata": {},
   "source": [
    "The dimensionless temperature at the objects's surface will always be set to zero by the Immersed Boundary Method, so in opposition to that, let's set the dimensionless temperature at the top and bottom boundaries to one:"
   ]
  },
  {
   "cell_type": "code",
   "execution_count": null,
   "metadata": {},
   "outputs": [],
   "source": [
    "for var in \"byphi1 byphin\".split():\n",
    "    ds[var] *= 0.0\n",
    "    ds[var] += 1.0"
   ]
  },
  {
   "cell_type": "markdown",
   "metadata": {},
   "source": [
    "### Initial Condition"
   ]
  },
  {
   "cell_type": "markdown",
   "metadata": {},
   "source": [
    "**Velocity profile**: Since the boundary conditions for velocity at the top and at the bottom are no-slip in this case (`ncly2=nclyn=2`), the inflow profile for streamwise velocity must be zero near walls:"
   ]
  },
  {
   "cell_type": "code",
   "execution_count": null,
   "metadata": {},
   "outputs": [],
   "source": [
    "# This function gives the shape\n",
    "fun = -((ds.y - prm.yly / 2.0) ** 2.0)\n",
    "\n",
    "# This attribute will be shown in the figure\n",
    "fun.attrs[\"long_name\"] = r\"Inflow Profile - f($x_2$)\"\n",
    "\n",
    "# Now, let's adjust its magnitude\n",
    "fun -= fun.isel(y=0)\n",
    "fun /= fun.x3d.simpson(\"y\") / prm.yly\n",
    "\n",
    "fun.plot()"
   ]
  },
  {
   "cell_type": "markdown",
   "metadata": {},
   "source": [
    "Now, let's make sure that the dimensionless averaged velocity is unitary:"
   ]
  },
  {
   "cell_type": "code",
   "execution_count": null,
   "metadata": {},
   "outputs": [],
   "source": [
    "fun.x3d.simpson(\"y\") / prm.yly"
   ]
  },
  {
   "cell_type": "markdown",
   "metadata": {},
   "source": [
    "A random noise will be applied at the three velocity components, we can create a modulation function `mod` to control were it will be applied. In this case, we will concentrate the noise near the center region and make it zero were $y=0$ and $y=L_y$. The domain is periodic in $z$ `nclz1=nclzn=0`, so there is no need to make `mod` functions of $z$. The functions looks like:\n",
    "\n",
    "$$\n",
    "\\text{mod} = \\exp\\left(-0.5 (y - 0.5 L_y)^2 \\right) .\n",
    "$$\n",
    "\n",
    "See the code:"
   ]
  },
  {
   "cell_type": "code",
   "execution_count": null,
   "metadata": {},
   "outputs": [],
   "source": [
    "# Random noise with fixed seed,\n",
    "# important for reproducibility, development and debugging\n",
    "if prm.iin == 2:\n",
    "    np.random.seed(seed=67)\n",
    "\n",
    "mod = np.exp(-0.5 * (ds.y - prm.yly * 0.5) ** 2.0)\n",
    "\n",
    "# This attribute will be shown in the figure\n",
    "mod.attrs[\"long_name\"] = r\"Noise Modulation - f($x_2$)\"\n",
    "\n",
    "mod.plot()"
   ]
  },
  {
   "cell_type": "markdown",
   "metadata": {},
   "source": [
    "Now we reset velocity fields `ds[key] *= 0.0`, just to guarantee consistency in the case of multiple executions of this cell.\n",
    "\n",
    "We then add a random number array with the right shape, multiply by the noise amplitude at the initial condition `init_noise` and multiply again by our modulation function `mod`, defined previously. Finally, we add the streamwise profile `fun` to `ux` and make the plots for reference, I'm adding extra options just to exemplify how easily we can slice the spanwise coordinate and produce multiple plots:"
   ]
  },
  {
   "cell_type": "code",
   "execution_count": null,
   "metadata": {},
   "outputs": [],
   "source": [
    "for key in \"ux uy uz\".split():\n",
    "    #\n",
    "    print(ds[key].attrs[\"name\"])\n",
    "    #\n",
    "    ds[key] *= 0.0\n",
    "    ds[key] += prm.init_noise * (np.random.random(ds[key].shape) - 0.5)\n",
    "    ds[key] *= mod\n",
    "    #\n",
    "    if key == \"ux\":\n",
    "        ds[key] += fun\n",
    "    #\n",
    "    ds[key].sel(z=slice(None, None, ds.z.size // 3)).plot(x=\"x\", y=\"y\", col=\"z\", col_wrap=2, aspect=1, size=3)\n",
    "    plt.show()\n",
    "    #\n",
    "\n",
    "plt.close(\"all\")"
   ]
  },
  {
   "cell_type": "markdown",
   "metadata": {},
   "source": [
    "For temperature, let's start with one everywhere:"
   ]
  },
  {
   "cell_type": "code",
   "execution_count": null,
   "metadata": {},
   "outputs": [],
   "source": [
    "ds[\"phi\"] *= 0.0\n",
    "ds[\"phi\"] += 1.0"
   ]
  },
  {
   "cell_type": "markdown",
   "metadata": {},
   "source": [
    "## Flow rate control"
   ]
  },
  {
   "cell_type": "markdown",
   "metadata": {},
   "source": [
    "The *Sandbox flow configuration* is prepared with a forcing term when the flow is periodic in the streamwise direction $x_1$, in order to compensate viscous dissipation and keep the flow rate constant.\n",
    "\n",
    "It is done with the help of a personalized volumetric integral operator (`vol_frc`), then, the streamwise velocity will be corrected at each simulated time-step as:\n",
    "\n",
    "```fortran\n",
    "I = sum(vol_frc * ux)\n",
    "\n",
    "ux = ux / I\n",
    "```"
   ]
  },
  {
   "cell_type": "markdown",
   "metadata": {},
   "source": [
    "For the composed trapezoidal rule in a uniform grid, the integral operator in the vertical direction can be computed as:\n",
    "\n",
    "$$\n",
    "vol_{frc} = \\Delta y ~ [1/2, 1, \\dots, 1, \\dots, 1, 1/2]\n",
    "$$\n",
    "\n",
    "For a unitary averaged velocity, `vol_frc` must be divided by the domain's height. Besides that, for streamwise and spanwise averaged values, `vol_frc` must be divided by `nx` and `nz`.\n",
    "\n",
    "Finally, `vol_frc` can be coded as:"
   ]
  },
  {
   "cell_type": "code",
   "execution_count": null,
   "metadata": {},
   "outputs": [],
   "source": [
    "ds[\"vol_frc\"] *= 0.0\n",
    "\n",
    "ds[\"vol_frc\"] += prm.dy / prm.yly / prm.nx / prm.nz\n",
    "\n",
    "ds[\"vol_frc\"][{\"y\": 0}] *= 0.5\n",
    "ds[\"vol_frc\"][{\"y\": -1}] *= 0.5\n",
    "\n",
    "ds.vol_frc.isel(z=0).plot(x=\"x\", y=\"y\", aspect=1, size=5)"
   ]
  },
  {
   "cell_type": "markdown",
   "metadata": {},
   "source": [
    "Now, let's make sure that `sum(vol_frc * ux)` is near to one:"
   ]
  },
  {
   "cell_type": "code",
   "execution_count": null,
   "metadata": {},
   "outputs": [],
   "source": [
    "(ds.vol_frc * ds.ux).sum([\"x\", \"y\", \"z\"])"
   ]
  },
  {
   "cell_type": "markdown",
   "metadata": {},
   "source": [
    "And the last step, we can remove the solid geometry from our integral operator using the code:"
   ]
  },
  {
   "cell_type": "code",
   "execution_count": null,
   "metadata": {},
   "outputs": [],
   "source": [
    "ds[\"vol_frc\"] = ds.vol_frc.where(epsi[\"epsi\"] == False, 0.0)\n",
    "\n",
    "ds.vol_frc.isel(z=0).plot(x=\"x\", y=\"y\", aspect=1, size=5)"
   ]
  },
  {
   "cell_type": "markdown",
   "metadata": {},
   "source": [
    "## Writing to the disc\n",
    "\n",
    "is as simple as:"
   ]
  },
  {
   "cell_type": "code",
   "execution_count": null,
   "metadata": {},
   "outputs": [],
   "source": [
    "prm.dataset.write(ds)"
   ]
  },
  {
   "cell_type": "code",
   "execution_count": null,
   "metadata": {},
   "outputs": [],
   "source": [
    "prm.write()"
   ]
  },
  {
   "cell_type": "markdown",
   "metadata": {},
   "source": [
    "## Running the Simulation"
   ]
  },
  {
   "cell_type": "markdown",
   "metadata": {},
   "source": [
    "It was just to show the capabilities of `xcompact3d_toolbox.sandbox`, keep in mind the aspects of numerical stability of our Navier-Stokes solver. **It is up to the user to find the right set of numerical and physical parameters**.\n",
    "\n",
    "The Sandbox Flow Configuration is still in prerelease, it can be found at [fschuch/Xcompact3d](https://github.com/fschuch/Xcompact3d).\n",
    "\n",
    "Make sure that the compiling flags and options at `Makefile` are what you expect. Then, compile the main code at the root folder with `make`.\n",
    "\n",
    "And finally, we are good to go:\n",
    "\n",
    "```bash\n",
    "mpirun -n [number of cores] ./xcompact3d |tee log.out\n",
    "```"
   ]
  }
 ],
 "metadata": {
  "kernelspec": {
   "display_name": "Python 3 (ipykernel)",
   "language": "python",
   "name": "python3"
  },
  "language_info": {
   "codemirror_mode": {
    "name": "ipython",
    "version": 3
   },
   "file_extension": ".py",
   "mimetype": "text/x-python",
   "name": "python",
   "nbconvert_exporter": "python",
   "pygments_lexer": "ipython3",
   "version": "3.9.6"
  }
 },
 "nbformat": 4,
 "nbformat_minor": 4
}
