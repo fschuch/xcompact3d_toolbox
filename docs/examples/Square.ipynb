{
 "cells": [
  {
   "cell_type": "markdown",
   "metadata": {},
   "source": [
    "# Flow Around a Square and Flow Visualization with Passive Scalar"
   ]
  },
  {
   "cell_type": "markdown",
   "metadata": {},
   "source": [
    "![image info](Square.svg)"
   ]
  },
  {
   "cell_type": "markdown",
   "metadata": {},
   "source": [
    "<div class=\"alert alert-info\">\n",
    "\n",
    "The no-flux boundary condition for the scalar field(s) at the solid/fluid interface is experimental, and it is still not available at XCompact3d's main repository.\n",
    "\n",
    "</div>"
   ]
  },
  {
   "cell_type": "code",
   "execution_count": null,
   "metadata": {},
   "outputs": [],
   "source": [
    "import matplotlib.pyplot as plt\n",
    "import numpy as np\n",
    "import xarray as xr\n",
    "\n",
    "import xcompact3d_toolbox as x3d"
   ]
  },
  {
   "cell_type": "markdown",
   "metadata": {},
   "source": [
    "## Parameters"
   ]
  },
  {
   "cell_type": "markdown",
   "metadata": {},
   "source": [
    "+ Numerical precision\n",
    "\n",
    "Use `np.float64` if Xcompact3d was compiled with the flag `-DDOUBLE_PREC`, use `np.float32` otherwise."
   ]
  },
  {
   "cell_type": "code",
   "execution_count": null,
   "metadata": {},
   "outputs": [],
   "source": [
    "x3d.param[\"mytype\"] = np.float64"
   ]
  },
  {
   "cell_type": "markdown",
   "metadata": {},
   "source": [
    "* Xcompact3d's parameters\n",
    "\n",
    "For more information about them, checkout the [API reference](https://docs.fschuch.com/xcompact3d_toolbox/references/api-reference.html#xcompact3d_toolbox.parameters.Parameters)."
   ]
  },
  {
   "cell_type": "code",
   "execution_count": null,
   "metadata": {},
   "outputs": [],
   "source": [
    "prm = x3d.Parameters(\n",
    "    filename=\"input.i3d\",\n",
    "    # BasicParam\n",
    "    itype=12,\n",
    "    p_row=0,\n",
    "    p_col=0,\n",
    "    nx=257,\n",
    "    ny=129,\n",
    "    nz=32,\n",
    "    xlx=15.0,\n",
    "    yly=10.0,\n",
    "    zlz=3.0,\n",
    "    nclx1=2,\n",
    "    nclxn=2,\n",
    "    ncly1=1,\n",
    "    nclyn=1,\n",
    "    nclz1=0,\n",
    "    nclzn=0,\n",
    "    iin=1,\n",
    "    re=300.0,\n",
    "    init_noise=0.0125,\n",
    "    inflow_noise=0.0125,\n",
    "    dt=0.0025,\n",
    "    ifirst=1,\n",
    "    ilast=90000,\n",
    "    ilesmod=1,\n",
    "    iibm=2,  # This is experimental, not available at the main repo\n",
    "    # NumOptions\n",
    "    nu0nu=4.0,\n",
    "    cnu=0.44,\n",
    "    # InOutParam\n",
    "    irestart=0,\n",
    "    icheckpoint=45000,\n",
    "    ioutput=500,\n",
    "    iprocessing=100,\n",
    "    # LESModel\n",
    "    jles=4,\n",
    "    # ScalarParam\n",
    "    numscalar=1,\n",
    "    nclxS1=2,\n",
    "    nclxSn=2,\n",
    "    nclyS1=1,\n",
    "    nclySn=1,\n",
    "    nclzS1=0,\n",
    "    nclzSn=0,\n",
    "    sc=[1.0],\n",
    "    ri=[0.0],  # Zero for numerical dye\n",
    "    uset=[0.0],  # Zero for numerical dye\n",
    "    cp=[1.0],\n",
    "    # iibmS=3, # This is experimental, not available at the main repo\n",
    ")"
   ]
  },
  {
   "cell_type": "markdown",
   "metadata": {},
   "source": [
    "## Setup"
   ]
  },
  {
   "cell_type": "markdown",
   "metadata": {},
   "source": [
    "### Geometry"
   ]
  },
  {
   "cell_type": "markdown",
   "metadata": {},
   "source": [
    "Everything needed is in one dictionary of Arrays (see [API reference](https://docs.fschuch.com/xcompact3d_toolbox/references/api-reference.html#xcompact3d_toolbox.sandbox.init_epsi)):"
   ]
  },
  {
   "cell_type": "code",
   "execution_count": null,
   "metadata": {},
   "outputs": [],
   "source": [
    "epsi = x3d.init_epsi(prm)"
   ]
  },
  {
   "cell_type": "markdown",
   "metadata": {},
   "source": [
    "The four $\\epsilon$ matrices are stored in a dictionary:"
   ]
  },
  {
   "cell_type": "code",
   "execution_count": null,
   "metadata": {},
   "outputs": [],
   "source": [
    "epsi.keys()"
   ]
  },
  {
   "cell_type": "markdown",
   "metadata": {},
   "source": [
    "Now we draw a square:"
   ]
  },
  {
   "cell_type": "code",
   "execution_count": null,
   "metadata": {},
   "outputs": [],
   "source": [
    "# Here we set the center\n",
    "center = {\"x\": prm.xlx / 3.0, \"y\": prm.yly / 2.0}\n",
    "\n",
    "# And apply geo.box over the four arrays\n",
    "for key in epsi:\n",
    "    epsi[key] = epsi[key].geo.box(\n",
    "        x=[center[\"x\"] - 0.5, center[\"x\"] + 0.5],\n",
    "        y=[center[\"y\"] - 0.5, center[\"y\"] + 0.5],\n",
    "    )\n",
    "\n",
    "# A quickie plot for reference\n",
    "epsi[\"epsi\"].sel(z=0, method=\"nearest\").plot(x=\"x\")"
   ]
  },
  {
   "cell_type": "markdown",
   "metadata": {},
   "source": [
    "<div class=\"alert alert-info\">\n",
    "\n",
    "Curved surfaces are not supported (yet?) for the no-flux condition for the scalar field(s) at the solid/fluid interface, so let's stay with the square.\n",
    "\n",
    "</div>"
   ]
  },
  {
   "cell_type": "markdown",
   "metadata": {},
   "source": [
    "The next step is to produce all the auxiliary files describing the geometry, so then Xcompact3d can read them:"
   ]
  },
  {
   "cell_type": "code",
   "execution_count": null,
   "metadata": {},
   "outputs": [],
   "source": [
    "%%time\n",
    "dataset = x3d.gene_epsi_3d(epsi, prm)\n",
    "\n",
    "prm.nobjmax = dataset.obj.size\n",
    "\n",
    "dataset"
   ]
  },
  {
   "cell_type": "markdown",
   "metadata": {},
   "source": [
    "### Boundary Condition"
   ]
  },
  {
   "cell_type": "markdown",
   "metadata": {},
   "source": [
    "Everything needed is in one Dataset (see [API reference](https://docs.fschuch.com/xcompact3d_toolbox/references/api-reference.html#xcompact3d_toolbox.sandbox.init_dataset)):"
   ]
  },
  {
   "cell_type": "code",
   "execution_count": null,
   "metadata": {},
   "outputs": [],
   "source": [
    "ds = x3d.init_dataset(prm)"
   ]
  },
  {
   "cell_type": "markdown",
   "metadata": {},
   "source": [
    "Let's see it, data and attributes are attached, try to interact with the icons:"
   ]
  },
  {
   "cell_type": "code",
   "execution_count": null,
   "metadata": {},
   "outputs": [],
   "source": [
    "ds"
   ]
  },
  {
   "cell_type": "markdown",
   "metadata": {},
   "source": [
    "**Inflow profile**: Since the boundary conditions for velocity at the top and at the bottom are free-slip in this case (`ncly1=nclyn=1`), the inflow profile for streamwise velocity is just 1 everywhere:"
   ]
  },
  {
   "cell_type": "code",
   "execution_count": null,
   "metadata": {},
   "outputs": [],
   "source": [
    "fun = xr.ones_like(ds.y)\n",
    "\n",
    "# This attribute will be shown in the figure\n",
    "fun.attrs[\"long_name\"] = r\"Inflow Profile - f($x_2$)\"\n",
    "\n",
    "fun.plot()"
   ]
  },
  {
   "cell_type": "markdown",
   "metadata": {},
   "source": [
    "Now, we reset the inflow planes `ds[key] *= 0.0`, just to guarantee consistency in case of multiple executions of this cell. Notice that `ds[key] = 0.0` may overwrite all the metadata contained in the array, so it should be avoided. Then, we add the inflow profile to the streamwise componente and plot them for reference:"
   ]
  },
  {
   "cell_type": "code",
   "execution_count": null,
   "metadata": {},
   "outputs": [],
   "source": [
    "for key in \"bxx1 bxy1 bxz1\".split():\n",
    "    #\n",
    "    print(ds[key].attrs[\"name\"])\n",
    "    #\n",
    "    ds[key] *= 0.0\n",
    "    #\n",
    "    if key == \"bxx1\":\n",
    "        ds[key] += fun\n",
    "    #\n",
    "    ds[key].plot()\n",
    "    plt.show()\n",
    "\n",
    "plt.close(\"all\")"
   ]
  },
  {
   "cell_type": "markdown",
   "metadata": {},
   "source": [
    "A random noise will be applied at the inflow boundary, we can create a modulation function `mod` to control were it will be applied. In this case, we will concentrate the noise near the center region and make it zero were $y=0$ and $y=L_y$. The domain is periodic in $z$ `nclz1=nclzn=0`, so there is no need to make `mod` functions of $z$. The functions looks like:\n",
    "\n",
    "$$\n",
    "\\text{mod} = \\exp\\left(-0.2 (y - 0.5 L_y)^2 \\right).\n",
    "$$\n",
    "\n",
    "See the code:"
   ]
  },
  {
   "cell_type": "code",
   "execution_count": null,
   "metadata": {},
   "outputs": [],
   "source": [
    "# Random noise with fixed seed,\n",
    "# important for reproducibility, development and debugging\n",
    "if prm.iin == 2:\n",
    "    np.random.seed(seed=67)\n",
    "\n",
    "mod = np.exp(-0.2 * (ds.y - ds.y[-1] * 0.5) ** 2.0)\n",
    "\n",
    "# This attribute will be shown in the figure\n",
    "mod.attrs[\"long_name\"] = \"Noise modulation\"\n",
    "\n",
    "mod.plot()"
   ]
  },
  {
   "cell_type": "markdown",
   "metadata": {},
   "source": [
    "Again, we reset the array `ds['noise_mod_x1'] *= 0.0`, just to guarantee consistency in case of multiple executions of this cell. Notice that `ds['noise_mod_x1'] *= 0.0` may overwrite all the metadata contained in the array, so it should be avoided. Then, we add the modulation profile to the proper array and plot it for reference:"
   ]
  },
  {
   "cell_type": "code",
   "execution_count": null,
   "metadata": {},
   "outputs": [],
   "source": [
    "ds[\"noise_mod_x1\"] *= 0.0\n",
    "ds[\"noise_mod_x1\"] += mod\n",
    "\n",
    "ds.noise_mod_x1.plot()"
   ]
  },
  {
   "cell_type": "markdown",
   "metadata": {},
   "source": [
    "Notice one of the many advantages of using [xarray](http://docs.xarray.dev/en/stable), `mod`, with shape (`ny`), was automatically broadcasted for every point in `z` into `ds.noise_mod_x1`, with shape (`ny`, `nz`)."
   ]
  },
  {
   "cell_type": "markdown",
   "metadata": {},
   "source": [
    "**Inflow BC for the passive scalar**: For this case, the choice was a \"smooth\" square wave, because it is differentiable.\n",
    "\n",
    "Notice that Xcompact3d supports multiple scalar fields (controlled by `numscalar`, this example just includes one), so different visualization patterns can be set for each one of them.\n"
   ]
  },
  {
   "cell_type": "code",
   "execution_count": null,
   "metadata": {},
   "outputs": [],
   "source": [
    "# Concentration\n",
    "\n",
    "print(ds[\"bxphi1\"].attrs[\"name\"])\n",
    "\n",
    "ds[\"bxphi1\"] *= 0.0\n",
    "\n",
    "for n in range(prm.numscalar):\n",
    "    ds[\"bxphi1\"][{\"n\": n}] += (\n",
    "        0.5 + np.arctan(np.sin(2.0 * np.pi * ds.y / prm.yly * 11.5) * (prm.sc[n] * prm.re) ** 0.5) / np.pi\n",
    "    )\n",
    "\n",
    "    ds.bxphi1.isel(n=n).plot()\n",
    "    plt.show()\n",
    "\n",
    "plt.close(\"all\")"
   ]
  },
  {
   "cell_type": "markdown",
   "metadata": {},
   "source": [
    "### Initial Condition"
   ]
  },
  {
   "cell_type": "markdown",
   "metadata": {},
   "source": [
    "Now we reset velocity fields `ds[key] *= 0.0`, just to guarantee consistency in the case of multiple executions of this cell.\n",
    "\n",
    "We then add a random number array with the right shape, multiply by the noise amplitude at the initial condition `init_noise` and multiply again by our modulation function `mod`, defined previously. Finally, we add the streamwise profile `fun` to `ux` and make the plots for reference, I'm adding extra options just to exemplify how easily we can slice the spanwise coordinate and produce multiple plots:"
   ]
  },
  {
   "cell_type": "code",
   "execution_count": null,
   "metadata": {},
   "outputs": [],
   "source": [
    "for key in \"ux uy uz\".split():\n",
    "    #\n",
    "    print(ds[key].attrs[\"name\"])\n",
    "    #\n",
    "    ds[key] *= 0.0\n",
    "    ds[key] += prm.init_noise * (np.random.random(ds[key].shape) - 0.5)\n",
    "    ds[key] *= mod\n",
    "    #\n",
    "    if key == \"ux\":\n",
    "        ds[key] += fun\n",
    "    #\n",
    "    ds[key].sel(z=slice(None, None, ds.z.size // 3)).plot(x=\"x\", y=\"y\", col=\"z\", col_wrap=2)\n",
    "    plt.show()\n",
    "    #\n",
    "\n",
    "plt.close(\"all\")"
   ]
  },
  {
   "cell_type": "markdown",
   "metadata": {},
   "source": [
    "For concentration, let's start with a clean domain:"
   ]
  },
  {
   "cell_type": "code",
   "execution_count": null,
   "metadata": {},
   "outputs": [],
   "source": [
    "ds[\"phi\"] *= 0"
   ]
  },
  {
   "cell_type": "markdown",
   "metadata": {},
   "source": [
    "## Writing to the disc\n",
    "\n",
    "is as simple as:"
   ]
  },
  {
   "cell_type": "code",
   "execution_count": null,
   "metadata": {},
   "outputs": [],
   "source": [
    "prm.dataset.write(ds)"
   ]
  },
  {
   "cell_type": "code",
   "execution_count": null,
   "metadata": {},
   "outputs": [],
   "source": [
    "prm.write()"
   ]
  },
  {
   "cell_type": "markdown",
   "metadata": {},
   "source": [
    "## Running the Simulation"
   ]
  },
  {
   "cell_type": "markdown",
   "metadata": {},
   "source": [
    "It was just to show the capabilities of `xcompact3d_toolbox.sandbox`, keep in mind the aspects of numerical stability of our Navier-Stokes solver. **It is up to the user to find the right set of numerical and physical parameters**.\n",
    "\n",
    "Make sure that the compiling flags and options at `Makefile` are what you expect. Then, compile the main code at the root folder with `make`.\n",
    "\n",
    "And finally, we are good to go:\n",
    "\n",
    "```bash\n",
    "mpirun -n [number of cores] ./xcompact3d |tee log.out\n",
    "```"
   ]
  }
 ],
 "metadata": {
  "kernelspec": {
   "display_name": "Python 3 (ipykernel)",
   "language": "python",
   "name": "python3"
  },
  "language_info": {
   "codemirror_mode": {
    "name": "ipython",
    "version": 3
   },
   "file_extension": ".py",
   "mimetype": "text/x-python",
   "name": "python",
   "nbconvert_exporter": "python",
   "pygments_lexer": "ipython3",
   "version": "3.9.6"
  }
 },
 "nbformat": 4,
 "nbformat_minor": 4
}
