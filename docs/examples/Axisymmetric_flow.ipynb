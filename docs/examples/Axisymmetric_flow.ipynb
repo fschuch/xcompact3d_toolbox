{
 "cells": [
  {
   "cell_type": "markdown",
   "metadata": {},
   "source": [
    "# Turbidity Current in Axisymmetric Configuration"
   ]
  },
  {
   "cell_type": "markdown",
   "metadata": {},
   "source": [
    "![image info](Axisymmetric_flow.jpg)"
   ]
  },
  {
   "cell_type": "code",
   "execution_count": null,
   "metadata": {},
   "outputs": [],
   "source": [
    "import matplotlib.pyplot as plt\n",
    "import numpy as np\n",
    "import xarray as xr  # noqa: F401\n",
    "\n",
    "import xcompact3d_toolbox as x3d"
   ]
  },
  {
   "cell_type": "markdown",
   "metadata": {},
   "source": [
    "## Parameters"
   ]
  },
  {
   "cell_type": "markdown",
   "metadata": {},
   "source": [
    "* Numerical precision\n",
    "\n",
    "Use `np.float64` if Xcompact3d was compiled with the flag `-DDOUBLE_PREC`, use `np.float32` otherwise."
   ]
  },
  {
   "cell_type": "code",
   "execution_count": null,
   "metadata": {},
   "outputs": [],
   "source": [
    "x3d.param[\"mytype\"] = np.float32"
   ]
  },
  {
   "cell_type": "markdown",
   "metadata": {},
   "source": [
    "* Xcompact3d's parameters\n",
    "\n",
    "For more information about them, checkout the [API reference](https://docs.fschuch.com/xcompact3d_toolbox/references/api-reference.html#xcompact3d_toolbox.parameters.Parameters)."
   ]
  },
  {
   "cell_type": "code",
   "execution_count": null,
   "metadata": {},
   "outputs": [],
   "source": [
    "prm = x3d.Parameters(\n",
    "    filename=\"input.i3d\",\n",
    "    # BasicParam\n",
    "    itype=12,\n",
    "    nx=501,\n",
    "    ny=73,\n",
    "    nz=501,\n",
    "    xlx=20.0,\n",
    "    yly=2.0,\n",
    "    zlz=20.0,\n",
    "    nclx1=1,\n",
    "    nclxn=1,\n",
    "    ncly1=2,\n",
    "    nclyn=1,\n",
    "    nclz1=1,\n",
    "    nclzn=1,\n",
    "    re=3500.0,\n",
    "    init_noise=0.0125,\n",
    "    dt=5e-4,\n",
    "    ifirst=1,\n",
    "    ilast=80000,\n",
    "    numscalar=1,\n",
    "    # ScalarParam\n",
    "    nclxS1=1,\n",
    "    nclxSn=1,\n",
    "    nclyS1=1,\n",
    "    nclySn=1,\n",
    "    nclzS1=1,\n",
    "    nclzSn=1,\n",
    "    sc=[1.0],\n",
    "    ri=[0.5],\n",
    "    uset=[0.0],\n",
    "    cp=[1.0],\n",
    ")"
   ]
  },
  {
   "cell_type": "markdown",
   "metadata": {},
   "source": [
    "## Setup"
   ]
  },
  {
   "cell_type": "markdown",
   "metadata": {},
   "source": [
    "Everything needed is in one Dataset (see [API reference](https://docs.fschuch.com/xcompact3d_toolbox/references/api-reference.html#xcompact3d_toolbox.sandbox.init_dataset)):"
   ]
  },
  {
   "cell_type": "code",
   "execution_count": null,
   "metadata": {},
   "outputs": [],
   "source": [
    "ds = x3d.init_dataset(prm)"
   ]
  },
  {
   "cell_type": "markdown",
   "metadata": {},
   "source": [
    "Let's see it, data and attributes are attached, try to interact with the icons:"
   ]
  },
  {
   "cell_type": "code",
   "execution_count": null,
   "metadata": {},
   "outputs": [],
   "source": [
    "ds"
   ]
  },
  {
   "cell_type": "markdown",
   "metadata": {},
   "source": [
    "### Initial Condition"
   ]
  },
  {
   "cell_type": "markdown",
   "metadata": {},
   "source": [
    "A random noise will be applied to the initial velocity field, we start creating a modulation function `mod`, to apply it just near the fresh/turbidity interface:"
   ]
  },
  {
   "cell_type": "code",
   "execution_count": null,
   "metadata": {},
   "outputs": [],
   "source": [
    "# Position of the initial interface in the polar coordinate\n",
    "r0 = 4.0\n",
    "\n",
    "# Random noise with fixed seed,\n",
    "# important for reproducibility, development and debugging\n",
    "if prm.iin == 2:\n",
    "    np.random.seed(seed=67)\n",
    "\n",
    "radius = np.sqrt(ds.x**2 + ds.z**2.0)\n",
    "\n",
    "mod = np.exp(-25.0 * (radius - r0) ** 2.0)\n",
    "\n",
    "# This attribute will be shown at the colorbar\n",
    "mod.attrs[\"long_name\"] = \"Noise modulation\"\n",
    "\n",
    "mod.plot()"
   ]
  },
  {
   "cell_type": "markdown",
   "metadata": {},
   "source": [
    "Now we reset velocity fields `ds[key] *= 0.0`, just to guarantee consistency in the case of multiple executions of this cell. Notice that `ds[key] = 0.0` may overwrite all the metadata contained in the array, so it should be avoided.\n",
    "\n",
    "We then add a random number array with the right shape and multiply by the noise amplitude at the initial condition `init_noise` and multiply again by our modulation function `mod`, defined previously.\n",
    "\n",
    "Plotting a `xarray.DataArray` is as simple as `da.plot()` (see its [user guide](http://docs.xarray.dev/en/stable/plotting.html)), I'm adding extra options just to exemplify how easily we can slice the vertical coordinate and produce multiple plots:"
   ]
  },
  {
   "cell_type": "code",
   "execution_count": null,
   "metadata": {},
   "outputs": [],
   "source": [
    "for key in \"ux uy uz\".split():\n",
    "    #\n",
    "    print(ds[key].attrs[\"name\"])\n",
    "    #\n",
    "    ds[key] *= 0.0\n",
    "    #\n",
    "    ds[key] += prm.init_noise * (np.random.random(ds[key].shape) - 0.5)\n",
    "    ds[key] *= mod\n",
    "    #\n",
    "    ds[key].sel(y=slice(None, None, ds.y.size // 3)).plot(x=\"x\", y=\"z\", col=\"y\", col_wrap=2)\n",
    "    plt.show()\n",
    "\n",
    "plt.close(\"all\")"
   ]
  },
  {
   "cell_type": "markdown",
   "metadata": {},
   "source": [
    "A smooth transition at the interface fresh/turbidity fluid is used for the initial concentration(s) field(s), it is defined in the polar coordinates as:\n",
    "\n",
    "$$\n",
    "\\varphi_n = c_{0,n} \\dfrac{1}{2} \\left( 1 - \\tanh \\left( (r - r_0) \\sqrt{Sc_n Re} \\right) \\right).\n",
    "$$\n",
    "\n",
    "The code block includes the same procedures, we reset the scalar field `ds['phi'] *= 0.0`, just to guarantee consistency, we compute the equation above, we add it to the array and make a plot:"
   ]
  },
  {
   "cell_type": "code",
   "execution_count": null,
   "metadata": {},
   "outputs": [],
   "source": [
    "# Concentration\n",
    "\n",
    "print(ds[\"phi\"].attrs[\"name\"])\n",
    "\n",
    "ds[\"phi\"] *= 0.0\n",
    "\n",
    "for n in range(prm.numscalar):\n",
    "    #\n",
    "    fun = 0.5 * prm.cp[n] * (1.0 - np.tanh((radius - r0) * (prm.sc[n] * prm.re) ** 0.5))\n",
    "    #\n",
    "    ds[\"phi\"][{\"n\": n}] += fun\n",
    "    #\n",
    "    ds.phi.isel(n=n).sel(y=prm.yly / 2.0).T.plot()\n",
    "    plt.show()\n",
    "\n",
    "plt.close(\"all\")"
   ]
  },
  {
   "cell_type": "markdown",
   "metadata": {},
   "source": [
    "## Writing to disc\n",
    "\n",
    "is as simple as:"
   ]
  },
  {
   "cell_type": "code",
   "execution_count": null,
   "metadata": {},
   "outputs": [],
   "source": [
    "prm.dataset.write(ds)"
   ]
  },
  {
   "cell_type": "code",
   "execution_count": null,
   "metadata": {},
   "outputs": [],
   "source": [
    "prm.write()"
   ]
  },
  {
   "cell_type": "markdown",
   "metadata": {},
   "source": [
    "## Running the Simulation"
   ]
  },
  {
   "cell_type": "markdown",
   "metadata": {},
   "source": [
    "It was just to show the capabilities of `xcompact3d_toolbox.sandbox`, keep in mind the aspects of numerical stability of our Navier-Stokes solver. **It is up to the user to find the right set of numerical and physical parameters**.\n",
    "\n",
    "Make sure that the compiling flags and options at `Makefile` are what you expect. Then, compile the main code at the root folder with `make`.\n",
    "\n",
    "And finally, we are good to go:\n",
    "\n",
    "```bash\n",
    "mpirun -n [number of cores] ./xcompact3d |tee log.out\n",
    "```"
   ]
  }
 ],
 "metadata": {
  "kernelspec": {
   "display_name": "Python 3 (ipykernel)",
   "language": "python",
   "name": "python3"
  },
  "language_info": {
   "codemirror_mode": {
    "name": "ipython",
    "version": 3
   },
   "file_extension": ".py",
   "mimetype": "text/x-python",
   "name": "python",
   "nbconvert_exporter": "python",
   "pygments_lexer": "ipython3",
   "version": "3.9.6"
  }
 },
 "nbformat": 4,
 "nbformat_minor": 4
}
