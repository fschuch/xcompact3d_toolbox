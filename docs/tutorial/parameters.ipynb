{
 "cells": [
  {
   "cell_type": "markdown",
   "metadata": {},
   "source": [
    "# Parameters\n",
    "\n",
    "The computational and physical parameters are handled by [xcompact3d_toolbox.Parameters](https://docs.fschuch.com/xcompact3d_toolbox/references/api-reference.html#xcompact3d_toolbox.parameters.Parameters). It is built on top of [Traitlets](https://traitlets.readthedocs.io/en/stable/index.html), which aims to make the parameters compatible with what XCompact3d expects, and also brings some advantages:\n",
    "\n",
    "* Attributes are type-checked;\n",
    "* Default values, restrictions and connections between related parameters are applied when necessary;\n",
    "* 'On change' callbacks for validation and observation;\n",
    "* Two-way linking with [ipywidgets](https://ipywidgets.readthedocs.io/en/latest/)."
   ]
  },
  {
   "cell_type": "code",
   "execution_count": null,
   "metadata": {},
   "outputs": [],
   "source": [
    "import numpy as np\n",
    "\n",
    "import xcompact3d_toolbox as x3d"
   ]
  },
  {
   "cell_type": "markdown",
   "metadata": {},
   "source": [
    "The first step is to establish numerical precision. Use `np.float64` if Xcompact3d was compiled with the flag `-DDOUBLE_PREC` (check the Makefile), use `np.float32` otherwise:"
   ]
  },
  {
   "cell_type": "code",
   "execution_count": null,
   "metadata": {},
   "outputs": [],
   "source": [
    "x3d.param[\"mytype\"] = np.float32"
   ]
  },
  {
   "cell_type": "markdown",
   "metadata": {},
   "source": [
    "## Initialization"
   ]
  },
  {
   "cell_type": "markdown",
   "metadata": {},
   "source": [
    "There are a few ways to initialize the class. First, calling it with no arguments initializes all variables with default value:"
   ]
  },
  {
   "cell_type": "code",
   "execution_count": null,
   "metadata": {},
   "outputs": [],
   "source": [
    "prm = x3d.Parameters()"
   ]
  },
  {
   "cell_type": "markdown",
   "metadata": {},
   "source": [
    "You can access a list with all the available variables at the [Api reference](https://docs.fschuch.com/xcompact3d_toolbox/references/api-reference.html)."
   ]
  },
  {
   "cell_type": "markdown",
   "metadata": {},
   "source": [
    "Let's see how it looks like:"
   ]
  },
  {
   "cell_type": "code",
   "execution_count": null,
   "metadata": {},
   "outputs": [],
   "source": [
    "print(prm)"
   ]
  },
  {
   "cell_type": "markdown",
   "metadata": {},
   "source": [
    "It is possible to access and/or set values afterwards:"
   ]
  },
  {
   "cell_type": "code",
   "execution_count": null,
   "metadata": {},
   "outputs": [],
   "source": [
    "# Reynolds Number\n",
    "print(prm.re)\n",
    "\n",
    "# attribute new value\n",
    "prm.re = 1e6\n",
    "print(prm.re)"
   ]
  },
  {
   "cell_type": "markdown",
   "metadata": {},
   "source": [
    "Second, we can specify some values, and let the missing ones be initialized with default value:"
   ]
  },
  {
   "cell_type": "code",
   "execution_count": null,
   "metadata": {},
   "outputs": [],
   "source": [
    "prm = x3d.Parameters(\n",
    "    filename=\"example.i3d\",\n",
    "    itype=10,\n",
    "    nx=129,\n",
    "    ny=65,\n",
    "    nz=32,\n",
    "    xlx=15.0,\n",
    "    yly=10.0,\n",
    "    zlz=3.0,\n",
    "    nclx1=2,\n",
    "    nclxn=2,\n",
    "    ncly1=1,\n",
    "    nclyn=1,\n",
    "    nclz1=0,\n",
    "    nclzn=0,\n",
    "    iin=1,\n",
    "    istret=2,\n",
    "    re=300.0,\n",
    "    init_noise=0.0125,\n",
    "    inflow_noise=0.0125,\n",
    "    dt=0.0025,\n",
    "    ifirst=1,\n",
    "    ilast=45000,\n",
    "    irestart=0,\n",
    "    icheckpoint=45000,\n",
    "    ioutput=200,\n",
    "    iprocessing=50,\n",
    ")"
   ]
  },
  {
   "cell_type": "markdown",
   "metadata": {},
   "source": [
    "It is easy to write `example.i3d` to disc, just type:"
   ]
  },
  {
   "cell_type": "code",
   "execution_count": null,
   "metadata": {},
   "outputs": [],
   "source": [
    "prm.write()"
   ]
  },
  {
   "cell_type": "markdown",
   "metadata": {},
   "source": [
    "And finally, it is possible to read the parameters from the disc:"
   ]
  },
  {
   "cell_type": "code",
   "execution_count": null,
   "metadata": {},
   "outputs": [],
   "source": [
    "prm = x3d.Parameters(filename=\"example.i3d\")\n",
    "prm.load()"
   ]
  },
  {
   "cell_type": "markdown",
   "metadata": {},
   "source": [
    "The same result is obtained in a more concise way:"
   ]
  },
  {
   "cell_type": "code",
   "execution_count": null,
   "metadata": {},
   "outputs": [],
   "source": [
    "prm = x3d.Parameters(loadfile=\"example.i3d\")"
   ]
  },
  {
   "cell_type": "markdown",
   "metadata": {},
   "source": [
    "The class can also read the previous parameters format ([se more information here](https://github.com/fschuch/xcompact3d_toolbox/issues/7)):\n",
    "\n",
    "``` python\n",
    "prm = x3d.Parameters(loadfile=\"incompact3d.prm\")\n",
    "```"
   ]
  },
  {
   "cell_type": "markdown",
   "metadata": {},
   "source": [
    "There are extra objects to read and write the raw binary files from XCompact3d on-demand.\n",
    "\n",
    "* Read a binary field from the disc:\n",
    "\n",
    "    ``` python\n",
    "    ux = prm.dataset.load_array(\"ux-0000.bin\")\n",
    "    ```\n",
    "\n",
    "* Read the entire time series for a given variable:\n",
    "\n",
    "    ``` python\n",
    "    ux = prm.dataset.load_time_series(\"ux\")\n",
    "    ```\n",
    "    \n",
    "* Read all variables for a given snapshot:\n",
    "\n",
    "    ```python\n",
    "    snapshot = prm.dataset.load_snapshot(10)\n",
    "    ```\n",
    "\n",
    "* Write `xdmf` files, so the binary files can be open in any external visualization tool:\n",
    "\n",
    "    ``` python\n",
    "    prm.dataset.write_xdmf()\n",
    "    ```\n",
    "\n",
    "* Compute the coordinates, including support for mesh refinement in y:"
   ]
  },
  {
   "cell_type": "code",
   "execution_count": null,
   "metadata": {},
   "outputs": [],
   "source": [
    "prm.get_mesh()"
   ]
  },
  {
   "cell_type": "markdown",
   "metadata": {},
   "source": [
    "More details about I/O and array manipulations with [xarray](http://docs.xarray.dev/en/stable/index.html) are available at:\n",
    "\n",
    "* [Reading and writing files](https://docs.fschuch.com/xcompact3d_toolbox/tutorial/io.html);\n",
    "* [Computing and Plotting](https://docs.fschuch.com/xcompact3d_toolbox/tutorial/computing_and_plotting.html)."
   ]
  },
  {
   "cell_type": "markdown",
   "metadata": {},
   "source": [
    "## Traitlets\n",
    "\n",
    "### Type-checking\n",
    "\n",
    "All parameters are type-checked, to make sure that they are what `XCompact3d` expects. Use the cellcode below to see how a `TraitError` pops out when we try:\n",
    "\n",
    "```python\n",
    "prm.itype = 10.5\n",
    "prm.itype = -5\n",
    "prm.itype = 20\n",
    "prm.itype = 'sandbox'\n",
    "\n",
    "```\n"
   ]
  },
  {
   "cell_type": "code",
   "execution_count": null,
   "metadata": {},
   "outputs": [],
   "source": []
  },
  {
   "cell_type": "markdown",
   "metadata": {},
   "source": [
    "### Validation"
   ]
  },
  {
   "cell_type": "markdown",
   "metadata": {},
   "source": [
    "Some parameters, like mesh points (`nx`, `ny` and `nz`), trigger a validation operation when a new value is attributed to them.\n",
    "Due to restrictions at the FFT library, they must be equal to:\n",
    "\n",
    "$$\n",
    "n_i = \\left\\{ \\begin{array}{ll} 2^{1+a} \\times 3^b \\times 5^c &\\mbox{if periodic,} \\\\ 2^{1+a} \\times 3^b \\times 5^c + 1 &\\mbox{otherwise,}\n",
    "\\end{array} \\right.\n",
    "$$\n",
    "\n",
    "where $a$, $b$ and $c$ are non negative integers. In addition, the derivatives stencil imposes that:\n",
    "\n",
    "$$\n",
    "n_i \\ge \\left\\{ \\begin{array}{ll} 8 &\\mbox{if periodic,} \\\\ 9 &\\mbox{otherwise.}\n",
    "\\end{array} \\right.\n",
    "$$\n",
    "\n",
    "Again, give it a try at the cellcode below:\n",
    "\n",
    "```python\n",
    "prm.nx = 129\n",
    "prm.nx = 4\n",
    "prm.nx = 60\n",
    "prm.nx = 61\n",
    "```"
   ]
  },
  {
   "cell_type": "code",
   "execution_count": null,
   "metadata": {},
   "outputs": [],
   "source": []
  },
  {
   "cell_type": "markdown",
   "metadata": {},
   "source": [
    "### Observation"
   ]
  },
  {
   "cell_type": "markdown",
   "metadata": {},
   "source": [
    "Other parameters, like mesh resolution (`dx`, `dy` and `dz`), are automatically updated when any new attribution occurs to mesh points and/or domain size. Let's create a quick print functions to play with:"
   ]
  },
  {
   "cell_type": "code",
   "execution_count": null,
   "metadata": {},
   "outputs": [],
   "source": [
    "def show_param():\n",
    "    for var in \"nclx1 nclxn nx xlx dx\".split():\n",
    "        print(f\"{var:>5} = {getattr(prm, var)}\")"
   ]
  },
  {
   "cell_type": "markdown",
   "metadata": {},
   "source": [
    "We are starting with:"
   ]
  },
  {
   "cell_type": "code",
   "execution_count": null,
   "metadata": {},
   "outputs": [],
   "source": [
    "show_param()"
   ]
  },
  {
   "cell_type": "markdown",
   "metadata": {},
   "source": [
    "Let's change just the domain's length:"
   ]
  },
  {
   "cell_type": "code",
   "execution_count": null,
   "metadata": {},
   "outputs": [],
   "source": [
    "prm.xlx = 50.0\n",
    "\n",
    "show_param()"
   ]
  },
  {
   "cell_type": "markdown",
   "metadata": {},
   "source": [
    "The resolution was updated as well. Now the number of mesh points:"
   ]
  },
  {
   "cell_type": "code",
   "execution_count": null,
   "metadata": {},
   "outputs": [],
   "source": [
    "prm.nx = 121\n",
    "\n",
    "show_param()"
   ]
  },
  {
   "cell_type": "markdown",
   "metadata": {},
   "source": [
    "Again, the resolution was updated. Now we set a new mesh resolution, this time, `xlx` will be updated in order to satisfy the new resolution:"
   ]
  },
  {
   "cell_type": "code",
   "execution_count": null,
   "metadata": {},
   "outputs": [],
   "source": [
    "prm.dx = 1e-2\n",
    "\n",
    "show_param()"
   ]
  },
  {
   "cell_type": "markdown",
   "metadata": {},
   "source": [
    "Boundary conditions are observed as well. Xcompact3d allows three different BC for velocity:\n",
    "\n",
    "* Periodic `0`;\n",
    "* Free-slip `1`;\n",
    "* Dirichlet `2`.\n",
    "\n",
    "They can be assigned individually for each of the six boundaries:\n",
    "\n",
    "* `nclx1` and `nclxn`, where $x=0$ and $x=xlx$;\n",
    "* `ncly1` and `nclyn`, where $y=0$ and $y=yly$;\n",
    "* `nclz1` and `nclzn`, where $z=0$ and $z=zlz$.\n",
    "\n",
    "It leads to 5 possibilities (`00`, `11`, `12`, `21` and `22`), because both boundary must be periodic, or not, so `0` cannot be combined.\n",
    "\n",
    "Let's check it out, we are starting with:"
   ]
  },
  {
   "cell_type": "code",
   "execution_count": null,
   "metadata": {},
   "outputs": [],
   "source": [
    "show_param()"
   ]
  },
  {
   "cell_type": "markdown",
   "metadata": {},
   "source": [
    "We will change just one side to periodic (`nclx1 = 0`), for consistence, the other side should be periodic too. Let's see:"
   ]
  },
  {
   "cell_type": "code",
   "execution_count": null,
   "metadata": {},
   "outputs": [],
   "source": [
    "prm.nclx1 = 0\n",
    "\n",
    "show_param()"
   ]
  },
  {
   "cell_type": "markdown",
   "metadata": {},
   "source": [
    "Now free-slip in one side (`nclx1 = 1`), and the other should be non-periodic:"
   ]
  },
  {
   "cell_type": "code",
   "execution_count": null,
   "metadata": {},
   "outputs": [],
   "source": [
    "prm.nclx1 = 1\n",
    "\n",
    "show_param()"
   ]
  },
  {
   "cell_type": "markdown",
   "metadata": {},
   "source": [
    "Setting the other boundary to periodic:"
   ]
  },
  {
   "cell_type": "code",
   "execution_count": null,
   "metadata": {},
   "outputs": [],
   "source": [
    "prm.nclxn = 0\n",
    "\n",
    "show_param()"
   ]
  },
  {
   "cell_type": "markdown",
   "metadata": {},
   "source": [
    "and now back to Dirichlet:"
   ]
  },
  {
   "cell_type": "code",
   "execution_count": null,
   "metadata": {},
   "outputs": [],
   "source": [
    "prm.nclxn = 2\n",
    "\n",
    "show_param()"
   ]
  },
  {
   "cell_type": "markdown",
   "metadata": {},
   "source": [
    "This time, free-slip:"
   ]
  },
  {
   "cell_type": "code",
   "execution_count": null,
   "metadata": {},
   "outputs": [],
   "source": [
    "prm.nclxn = 1\n",
    "\n",
    "show_param()"
   ]
  },
  {
   "cell_type": "markdown",
   "metadata": {},
   "source": [
    "There was no need to update `nclx1`, because `1` and `2` can be freely combined. Notice that `nx` was modified properly from 121 to 120 and then back, according to the possible values, `dx` and `xlx` stayed untouched."
   ]
  },
  {
   "cell_type": "markdown",
   "metadata": {},
   "source": [
    "### Metadata"
   ]
  },
  {
   "cell_type": "markdown",
   "metadata": {},
   "source": [
    "Traitlets types constructors have a `tag` method to store metadata in a dictionary. In the case of Xcompact3d-toolbox, two are especially useful:\n",
    "\n",
    "* `group` defines to what namespace a given parameter belongs when the class is written to `.i3d` file (`.write()` method) or read from `.i3d` or `.prm` files (`.load()` method), parameters without a group are ignored for both methods;\n",
    "* `desc` contains a brief description of each parameter that is shown on screen as we saw above, and also printed with the `.write()` method."
   ]
  },
  {
   "cell_type": "markdown",
   "metadata": {},
   "source": [
    "### Declaring new parameters"
   ]
  },
  {
   "cell_type": "markdown",
   "metadata": {},
   "source": [
    "You probably would like to add more parameters for your own flow configuration, or because some of them were not implemented yet (it is a work in progress).\n",
    "\n",
    "To do so, any Auxiliary variable can be included after initialization, like:"
   ]
  },
  {
   "cell_type": "code",
   "execution_count": null,
   "metadata": {},
   "outputs": [],
   "source": [
    "prm.my_variable = 0  # or any other datatype"
   ]
  },
  {
   "cell_type": "markdown",
   "metadata": {},
   "source": [
    "It was called Auxiliary variable because, in this way, it will be available only for the Python application.\n",
    "\n",
    "In order to include it at the `.i3d` file and make it available for XCompact3d, we can create a subclass that inherits all the functionality from `xcompact3d_toolbox.Parameters`:"
   ]
  },
  {
   "cell_type": "code",
   "execution_count": null,
   "metadata": {},
   "outputs": [],
   "source": [
    "import traitlets\n",
    "\n",
    "\n",
    "# Create a class named MyParameters, which inherits the properties all properties and methods\n",
    "class MyParameters(x3d.Parameters):\n",
    "    # .tag with group and description guarantees that the new variable will\n",
    "    # be compatible with all functionalities (like .write() and .load())\n",
    "    my_variable = traitlets.Int(default_value=0, min=0).tag(\n",
    "        group=\"BasicParam\", desc=\"An example at the Tutorial <------\"\n",
    "    )\n",
    "\n",
    "    # And a custom method, for instance\n",
    "    def my_method(self):\n",
    "        return self.my_variable * 2\n",
    "\n",
    "\n",
    "prm = MyParameters(nx=257, ny=129, nz=31, my_variable=10)  # and here we go\n",
    "\n",
    "# Testing the method\n",
    "print(prm.my_method())\n",
    "\n",
    "# Show all parameters on screen\n",
    "print(prm)"
   ]
  },
  {
   "cell_type": "markdown",
   "metadata": {},
   "source": [
    "Take a look at the source code of [parameters.py](https://github.com/fschuch/xcompact3d_toolbox/blob/main/xcompact3d_toolbox/parameters.py) if you need more examples for different data types."
   ]
  },
  {
   "cell_type": "markdown",
   "metadata": {},
   "source": [
    "## Graphical User Interface"
   ]
  },
  {
   "cell_type": "markdown",
   "metadata": {},
   "source": [
    "<div class=\"alert alert-info\">\n",
    "\n",
    "For an interactive experience [launch this tutorial on Binder](https://mybinder.org/v2/gh/fschuch/xcompact3d_toolbox/main?labpath=.%2Fdocs%2Ftutorial), the widgets are not so responsive when disconnected from a Python application.\n",
    "\n",
    "</div>"
   ]
  },
  {
   "cell_type": "markdown",
   "metadata": {},
   "source": [
    "To conclude this part of the tutorial, let's see another option to handle the parameters. The class `ParametersGui` is a subclass of `Parameters`, and includes all the features described above. In addition, `ParametersGui` offers an user interface with [IPywidgets](https://ipywidgets.readthedocs.io/en/stable/index.html).\n",
    "\n",
    "It is still under development, more parameters and features are going to be included soon, as well as more widgets.\n",
    "\n",
    "Just like before, we start with:"
   ]
  },
  {
   "cell_type": "code",
   "execution_count": null,
   "metadata": {},
   "outputs": [],
   "source": [
    "prm = x3d.ParametersGui()"
   ]
  },
  {
   "cell_type": "markdown",
   "metadata": {},
   "source": [
    "Widgets are returned on demand when any instance of `class ParametersGui` is called, let’s see:"
   ]
  },
  {
   "cell_type": "code",
   "execution_count": null,
   "metadata": {},
   "outputs": [],
   "source": [
    "prm(\"nx\", \"xlx\", \"dx\", \"nclx1\", \"nclxn\")"
   ]
  },
  {
   "cell_type": "markdown",
   "metadata": {},
   "source": [
    "You can play around with the widgets above and see the effect of the observations made previously.\n",
    "\n",
    "Notice that the [Traitlets](https://traitlets.readthedocs.io/en/stable/index.html) parameters are related to the value at their widgets in a **two-way link**, in this way, a print will show the actual value on the widgets:"
   ]
  },
  {
   "cell_type": "code",
   "execution_count": null,
   "metadata": {},
   "outputs": [],
   "source": [
    "show_param()"
   ]
  },
  {
   "cell_type": "markdown",
   "metadata": {},
   "source": [
    "Give it a try, modify the values at the widgets and print them again.\n",
    "\n",
    "It also works on the other way, set a new value to a parameters will change its widget, try it:"
   ]
  },
  {
   "cell_type": "code",
   "execution_count": null,
   "metadata": {},
   "outputs": [],
   "source": [
    "# prm.nclx1 = 0\n",
    "\n"
   ]
  },
  {
   "cell_type": "markdown",
   "metadata": {},
   "source": [
    "And of course, different widgets for the same parameter are always synchronized, change the widget below and see what happens with the widget above:"
   ]
  },
  {
   "cell_type": "code",
   "execution_count": null,
   "metadata": {},
   "outputs": [],
   "source": [
    "prm(\"nx\")"
   ]
  },
  {
   "cell_type": "markdown",
   "metadata": {},
   "source": [
    "A last example is about the domain decomposition for parallel computation, Xcompact3d uses [2DECOMP&FFT](http://www.2decomp.org/).\n",
    "The available options for `p_row` and `p_col` are presented as functions of the number of computational cores `ncores`, notice that `p_row * p_col = ncores` should be respected and `p_row * p_col = 0` activates the auto-tunning mode. The widgets are prepared to respect these restrictions:"
   ]
  },
  {
   "cell_type": "code",
   "execution_count": null,
   "metadata": {},
   "outputs": [],
   "source": [
    "prm(\"ncores\", \"p_row\", \"p_col\")"
   ]
  },
  {
   "cell_type": "markdown",
   "metadata": {},
   "source": [
    "To conclude this part of the tutorial, let’s see what happens when `class ParametersGui` is presented on screen, hover the mouse over some variable to see its description:"
   ]
  },
  {
   "cell_type": "code",
   "execution_count": null,
   "metadata": {},
   "outputs": [],
   "source": [
    "prm"
   ]
  }
 ],
 "metadata": {
  "interpreter": {
   "hash": "546d5beeb22119d9a20f6c19239ae627cc2b69f70be285d1d696980c89f3c939"
  },
  "kernelspec": {
   "display_name": "Python 3.9.5 64-bit ('idp': conda)",
   "name": "python3"
  },
  "language_info": {
   "codemirror_mode": {
    "name": "ipython",
    "version": 3
   },
   "file_extension": ".py",
   "mimetype": "text/x-python",
   "name": "python",
   "nbconvert_exporter": "python",
   "pygments_lexer": "ipython3",
   "version": "3.12.2"
  }
 },
 "nbformat": 4,
 "nbformat_minor": 4
}
