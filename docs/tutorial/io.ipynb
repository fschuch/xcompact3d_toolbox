{
 "cells": [
  {
   "cell_type": "markdown",
   "id": "0",
   "metadata": {},
   "source": [
    "# Reading and writing files"
   ]
  },
  {
   "cell_type": "markdown",
   "id": "1",
   "metadata": {},
   "source": [
    "This tutorial includes an overview of the different ways available to load the binary arrays from the disc after running a numerical simulation with [XCompact3d](https://github.com/xcompact3d/Incompact3d).\n",
    "Besides that, some options are presented to save the results from our analysis, together with some tips and tricks."
   ]
  },
  {
   "cell_type": "markdown",
   "id": "2",
   "metadata": {
    "tags": []
   },
   "source": [
    "## Preparation"
   ]
  },
  {
   "cell_type": "markdown",
   "id": "3",
   "metadata": {},
   "source": [
    "Here we prepare the dataset for this notebook, so it can be reproduced on local machines or on the cloud, you are invited to test and interact with many of the concepts.\n",
    "It also provides nice support for courses and tutorials, let us know if you produce any of them.\n",
    "\n",
    "The very first step is to import the toolbox and other packages:"
   ]
  },
  {
   "cell_type": "code",
   "execution_count": null,
   "id": "4",
   "metadata": {},
   "outputs": [],
   "source": [
    "import warnings\n",
    "\n",
    "import numpy as np\n",
    "import xarray as xr\n",
    "\n",
    "import xcompact3d_toolbox as x3d"
   ]
  },
  {
   "cell_type": "markdown",
   "id": "5",
   "metadata": {},
   "source": [
    "Then we can download an example from the [online database](https://github.com/fschuch/xcompact3d_toolbox_data), the flow around a cylinder in this case.\n",
    "We set `cache=True` and a local destination where it can be saved in our computer `cache_dir=\"./example/\"`, so there is no need to download it every time the kernel is restarted."
   ]
  },
  {
   "cell_type": "code",
   "execution_count": null,
   "id": "6",
   "metadata": {},
   "outputs": [],
   "source": [
    "cylinder_ds, prm = x3d.tutorial.open_dataset(\"cylinder\", cache=True, cache_dir=\"./example/\")"
   ]
  },
  {
   "cell_type": "markdown",
   "id": "7",
   "metadata": {},
   "source": [
    "let's take a look at the dataset:"
   ]
  },
  {
   "cell_type": "code",
   "execution_count": null,
   "id": "8",
   "metadata": {},
   "outputs": [],
   "source": [
    "cylinder_ds.info()"
   ]
  },
  {
   "cell_type": "markdown",
   "id": "9",
   "metadata": {},
   "source": [
    "We got a [xarray.Dataset](http://docs.xarray.dev/en/stable/generated/xarray.Dataset.html#xarray.Dataset) with the variables `u` (velocity vector), `pp` (pressure) and `epsi` (describes the geometry), their coordinates (`x`, `y`, `t` and `i`) and some attributes like the `xcompact3d_version` used to run this simulation, the `url` where you can find the dataset, and others.\n",
    "\n",
    "In the next block, we configure the toolbox and some attributes at the dataset, so we can write all the binary fields to the disc.\n",
    "Do not worry about the details right now, this is just the preparation step, we are going to discuss them later."
   ]
  },
  {
   "cell_type": "code",
   "execution_count": null,
   "id": "10",
   "metadata": {},
   "outputs": [],
   "source": [
    "x3d.param[\"mytype\"] = np.float32\n",
    "\n",
    "prm.dataset.set(data_path=\"./data/\", drop_coords=\"z\")\n",
    "\n",
    "cylinder_ds.u.attrs[\"file_name\"] = \"u\"\n",
    "cylinder_ds.pp.attrs[\"file_name\"] = \"pp\"\n",
    "cylinder_ds.epsi.attrs[\"file_name\"] = \"epsilon\"\n",
    "\n",
    "prm.write(\"input.i3d\")\n",
    "\n",
    "prm.dataset.write(cylinder_ds)\n",
    "\n",
    "prm.dataset.write_xdmf(\"xy-planes.xdmf\")\n",
    "\n",
    "del cylinder_ds, prm"
   ]
  },
  {
   "cell_type": "markdown",
   "id": "11",
   "metadata": {},
   "source": [
    "After that, the files are organized as follow:"
   ]
  },
  {
   "cell_type": "markdown",
   "id": "12",
   "metadata": {},
   "source": [
    "```\n",
    "tutorial\n",
    "│   computing_and_plotting.ipynb\n",
    "│   io.ipynb\n",
    "│   input.i3d\n",
    "│   parameters.ipynb\n",
    "│   xy-planes.xdmf\n",
    "│\n",
    "└─── data\n",
    "│       │   epsilon.bin\n",
    "│       │   pp-000.bin\n",
    "│       │   pp-001.bin\n",
    "│       │   ... \n",
    "│       │   pp-199.bin\n",
    "│       │   pp-200.bin\n",
    "│       │   ux-000.bin\n",
    "│       │   ux-001.bin\n",
    "│       │   ... \n",
    "│       │   ux-199.bin\n",
    "│       │   ux-200.bin\n",
    "│       │   uy-000.bin\n",
    "│       │   uy-001.bin\n",
    "│       │   ... \n",
    "│       │   uy-199.bin\n",
    "│       │   uy-200.bin\n",
    "│       │   uz-000.bin\n",
    "│       │   uz-001.bin\n",
    "│       │   ... \n",
    "│       │   uz-199.bin\n",
    "│       │   uz-200.bin\n",
    "│\n",
    "└─── example\n",
    "│       │   cylinder.nc\n",
    "```"
   ]
  },
  {
   "cell_type": "markdown",
   "id": "13",
   "metadata": {},
   "source": [
    "It is very similar to what we get after successfully running a simulation, so now we can move on to the tutorial."
   ]
  },
  {
   "cell_type": "markdown",
   "id": "14",
   "metadata": {},
   "source": [
    "## Why xarray?\n",
    "\n",
    "The data structures are provided by [xarray](http://docs.xarray.dev/en/stable/index.html), that introduces labels in the form of dimensions, coordinates and attributes on top of raw NumPy-like arrays, which allows for a more intuitive, more concise, and less error-prone developer experience.\n",
    "It integrates tightly with [dask](https://dask.org/) for parallel computing.\n",
    "\n",
    "The goal here is to speed up the development of customized post-processing applications with the concise interface provided by [xarray](http://docs.xarray.dev/en/stable/index.html). Ultimately, we can compute solutions with fewer lines of code and better readability, so we expend less time testing and debugging and more time exploring our datasets and getting insights.\n",
    "\n",
    "Additionally, xcompact3d-toolbox includes extra functionalities for [DataArray](https://xcompact3d-toolbox.readthedocs.io/en/stable/references/api-reference.html#xcompact3d_toolbox.array.X3dDataArray) and [Dataset](https://xcompact3d-toolbox.readthedocs.io/en/stable/references/api-reference.html#xcompact3d_toolbox.array.X3dDataset).\n",
    "\n",
    "Before going forward, please, take a look at [Overview: Why xarray?](http://docs.xarray.dev/en/stable/getting-started-guide/why-xarray.html) and [Quick overview](http://docs.xarray.dev/en/stable/getting-started-guide/quick-overview.html) to understand the motivation to use [xarray](http://docs.xarray.dev/en/stable/index.html)'s data structures instead of just numpy-like arrays."
   ]
  },
  {
   "cell_type": "markdown",
   "id": "15",
   "metadata": {},
   "source": [
    "## Xarray objects on demand"
   ]
  },
  {
   "cell_type": "markdown",
   "id": "16",
   "metadata": {},
   "source": [
    "To start our post-processing, let's load the parameters file:"
   ]
  },
  {
   "cell_type": "code",
   "execution_count": null,
   "id": "17",
   "metadata": {},
   "outputs": [],
   "source": [
    "prm = x3d.Parameters(loadfile=\"input.i3d\")"
   ]
  },
  {
   "cell_type": "markdown",
   "id": "18",
   "metadata": {},
   "source": [
    "Notice there is an entire [tutorial dedicated to it](https://xcompact3d-toolbox.readthedocs.io/en/stable/tutorial/parameters.html)."
   ]
  },
  {
   "cell_type": "markdown",
   "id": "19",
   "metadata": {},
   "source": [
    "To save space on the disc, our dataset was converted from double precision to single, so we have to configure the toolbox to:"
   ]
  },
  {
   "cell_type": "code",
   "execution_count": null,
   "id": "20",
   "metadata": {},
   "outputs": [],
   "source": [
    "x3d.param[\"mytype\"] = np.float32"
   ]
  },
  {
   "cell_type": "markdown",
   "id": "21",
   "metadata": {},
   "source": [
    "The methods in the toolbox support different [filename properties](https://xcompact3d-toolbox.readthedocs.io/en/stable/references/api-reference.html#xcompact3d_toolbox.io.FilenameProperties), like the classic `ux000` or the new `ux-0000.bin`, besides some combinations between them. For our case, we set the parameters as:"
   ]
  },
  {
   "cell_type": "code",
   "execution_count": null,
   "id": "22",
   "metadata": {},
   "outputs": [],
   "source": [
    "prm.dataset.filename_properties.set(\n",
    "    separator=\"-\",\n",
    "    file_extension=\".bin\",\n",
    "    number_of_digits=3,\n",
    ")"
   ]
  },
  {
   "cell_type": "markdown",
   "id": "23",
   "metadata": {},
   "source": [
    "Now we specify the parameters for our dataset, like where it is found (`data_path`), if it needs to drop some coordinate (`drop_coords`, again, to save space, we are working with a span-wise averaged dataset, so we drop `z` to work with `xy` planes), we inform the parameter that controls the number of timesteps `snapshot_counting` and their step `snapshot_step`.\n",
    "Consult the [dataset documentation](https://xcompact3d-toolbox.readthedocs.io/en/stable/references/api-reference.html#xcompact3d_toolbox.io.Dataset) to see different ways to customize your experience, and choose the ones that best suits your post-processing application.\n",
    "In this example, they are defined as:"
   ]
  },
  {
   "cell_type": "code",
   "execution_count": null,
   "id": "24",
   "metadata": {},
   "outputs": [],
   "source": [
    "prm.dataset.set(\n",
    "    data_path=\"./data/\",\n",
    "    drop_coords=\"z\",\n",
    "    snapshot_counting=\"ilast\",\n",
    "    snapshot_step=\"ioutput\",\n",
    ")"
   ]
  },
  {
   "cell_type": "markdown",
   "id": "25",
   "metadata": {},
   "source": [
    "Now we are good to go."
   ]
  },
  {
   "cell_type": "markdown",
   "id": "26",
   "metadata": {},
   "source": [
    "We can check the [length of the dataset](https://xcompact3d-toolbox.readthedocs.io/en/stable/references/api-reference.html#xcompact3d_toolbox.io.Dataset.__len__) we are dealing with:"
   ]
  },
  {
   "cell_type": "code",
   "execution_count": null,
   "id": "27",
   "metadata": {},
   "outputs": [],
   "source": [
    "len(prm.dataset)"
   ]
  },
  {
   "cell_type": "markdown",
   "id": "28",
   "metadata": {},
   "source": [
    "Meaning that our binary files range from 0 (i.g., `ux-000.bin`) to 200 (i.g., `ux-200.bin`), exactly as expected."
   ]
  },
  {
   "cell_type": "markdown",
   "id": "29",
   "metadata": {},
   "source": [
    "It is possible to load any given array:"
   ]
  },
  {
   "cell_type": "code",
   "execution_count": null,
   "id": "30",
   "metadata": {},
   "outputs": [],
   "source": [
    "epsilon = prm.dataset.load_array(\"./data/epsilon.bin\", add_time=False)"
   ]
  },
  {
   "cell_type": "markdown",
   "id": "31",
   "metadata": {},
   "source": [
    "Notice that [load_array](https://xcompact3d-toolbox.readthedocs.io/en/stable/references/api-reference.html#xcompact3d_toolbox.io.Dataset.load_array) requires the entire path to the file, and we use `add_time=False` because this array does not evolve in time like the others, i.e., it is not numerated for several snapshots.\n",
    "\n",
    "We can see it on the screen:"
   ]
  },
  {
   "cell_type": "code",
   "execution_count": null,
   "id": "32",
   "metadata": {},
   "outputs": [],
   "source": [
    "epsilon"
   ]
  },
  {
   "cell_type": "markdown",
   "id": "33",
   "metadata": {},
   "source": [
    "Let's do it again, this time for `ux` and using `add_time=True`:"
   ]
  },
  {
   "cell_type": "code",
   "execution_count": null,
   "id": "34",
   "metadata": {},
   "outputs": [],
   "source": [
    "ux = prm.dataset.load_array(\"./data/ux-100.bin\", add_time=True)"
   ]
  },
  {
   "cell_type": "markdown",
   "id": "35",
   "metadata": {},
   "source": [
    "See that `t` is now a coordinate, and for this snapshot it was computed automatically as dimensionless time `75.0`:"
   ]
  },
  {
   "cell_type": "code",
   "execution_count": null,
   "id": "36",
   "metadata": {},
   "outputs": [],
   "source": [
    "ux"
   ]
  },
  {
   "cell_type": "markdown",
   "id": "37",
   "metadata": {},
   "source": [
    "That is not all. If you have enough memory, you can load the entire time series for a given variable with [load_time_series](https://xcompact3d-toolbox.readthedocs.io/en/stable/references/api-reference.html#xcompact3d_toolbox.io.Dataset.load_time_series), or simply by:"
   ]
  },
  {
   "cell_type": "code",
   "execution_count": null,
   "id": "38",
   "metadata": {},
   "outputs": [],
   "source": [
    "ux = prm.dataset[\"ux\"]"
   ]
  },
  {
   "cell_type": "markdown",
   "id": "39",
   "metadata": {},
   "source": [
    "Let's see it (note 201 files are loaded and wrapped with the appropriate coordinates):"
   ]
  },
  {
   "cell_type": "code",
   "execution_count": null,
   "id": "40",
   "metadata": {},
   "outputs": [],
   "source": [
    "ux"
   ]
  },
  {
   "cell_type": "markdown",
   "id": "41",
   "metadata": {},
   "source": [
    "You can store each array in a different variable, like:"
   ]
  },
  {
   "cell_type": "code",
   "execution_count": null,
   "id": "42",
   "metadata": {},
   "outputs": [],
   "source": [
    "ux = prm.dataset[\"ux\"]\n",
    "uy = prm.dataset[\"uy\"]\n",
    "pp = prm.dataset[\"pp\"]"
   ]
  },
  {
   "cell_type": "markdown",
   "id": "43",
   "metadata": {},
   "source": [
    "Or organize many arrays in a dataset:"
   ]
  },
  {
   "cell_type": "code",
   "execution_count": null,
   "id": "44",
   "metadata": {},
   "outputs": [],
   "source": [
    "# create an empty dataset\n",
    "ds = xr.Dataset()\n",
    "\n",
    "# populate it\n",
    "for var in [\"ux\", \"uy\", \"pp\"]:\n",
    "    ds[var] = prm.dataset[var]\n",
    "\n",
    "# show on the screen\n",
    "ds"
   ]
  },
  {
   "cell_type": "markdown",
   "id": "45",
   "metadata": {},
   "source": [
    "We can also write an one-liner solution for the previous code:\n",
    "\n",
    "```python\n",
    "ds = xr.Dataset({var: prm.dataset[var] for var in \"ux uy pp\".split()})\n",
    "```"
   ]
  },
  {
   "cell_type": "markdown",
   "id": "46",
   "metadata": {},
   "source": [
    "It is possible to load all the variables from a given snapshot with [load_snapshot](https://xcompact3d-toolbox.readthedocs.io/en/stable/references/api-reference.html#xcompact3d_toolbox.io.Dataset.load_snapshot), or simply:"
   ]
  },
  {
   "cell_type": "code",
   "execution_count": null,
   "id": "47",
   "metadata": {},
   "outputs": [],
   "source": [
    "snapshot = prm.dataset[100]"
   ]
  },
  {
   "cell_type": "markdown",
   "id": "48",
   "metadata": {},
   "source": [
    "And we got a [xarray.Dataset](http://docs.xarray.dev/en/stable/generated/xarray.Dataset.html#xarray.Dataset) with all the variables and their coordinates. You can access each of them with the dot notation (i.g., `snapshot.pp`, `snapshot.ux`, `snapshot.uy`) or the dict-like notation (i.g., `snapshot[\"pp\"]`, `snapshot[\"ux\"]`, `snapshot[\"uy\"]`). See the dataset:"
   ]
  },
  {
   "cell_type": "code",
   "execution_count": null,
   "id": "49",
   "metadata": {},
   "outputs": [],
   "source": [
    "snapshot"
   ]
  },
  {
   "cell_type": "markdown",
   "id": "50",
   "metadata": {},
   "source": [
    "Do you need the snapshots in a range? No problem. Let's do a [slice](https://docs.python.org/3/library/functions.html#slice) to load the last 100, and just to exemplify, compute a [time average](http://docs.xarray.dev/en/stable/generated/xarray.Dataset.mean.html):"
   ]
  },
  {
   "cell_type": "code",
   "execution_count": null,
   "id": "51",
   "metadata": {},
   "outputs": [],
   "source": [
    "time_averaged = prm.dataset[-100:].mean(\"t\")\n",
    "time_averaged"
   ]
  },
  {
   "cell_type": "markdown",
   "id": "52",
   "metadata": {},
   "source": [
    "You can even use the slice notation to load all the snapshots at once:"
   ]
  },
  {
   "cell_type": "code",
   "execution_count": null,
   "id": "53",
   "metadata": {},
   "outputs": [],
   "source": [
    "prm.dataset[:]"
   ]
  },
  {
   "cell_type": "markdown",
   "id": "54",
   "metadata": {},
   "source": [
    "Of course, some simulations may not fit in the memory like in this tutorial. For these cases we can iterate over all snapshots, loading them one by one:"
   ]
  },
  {
   "cell_type": "code",
   "execution_count": null,
   "id": "55",
   "metadata": {},
   "outputs": [],
   "source": [
    "for ds in prm.dataset:\n",
    "    # Computing the vorticity, just to exemplify\n",
    "    vort = ds.uy.x3d.first_derivative(\"x\") - ds.ux.x3d.first_derivative(\"y\")"
   ]
  },
  {
   "cell_type": "markdown",
   "id": "56",
   "metadata": {},
   "source": [
    "Note that `reversed(prm.dataset)` also works."
   ]
  },
  {
   "cell_type": "markdown",
   "id": "57",
   "metadata": {},
   "source": [
    "Or for better control, we can iterate over a selected range of snapshots loading them one by one. The arguments are the same of a classic [range](https://docs.python.org/3/library/functions.html#func-range) in Python:"
   ]
  },
  {
   "cell_type": "code",
   "execution_count": null,
   "id": "58",
   "metadata": {},
   "outputs": [],
   "source": [
    "for ds in prm.dataset(100, 200, 1):\n",
    "    # Computing the vorticity, just to exemplify\n",
    "    vort = ds.uy.x3d.first_derivative(\"x\") - ds.ux.x3d.first_derivative(\"y\")"
   ]
  },
  {
   "cell_type": "code",
   "execution_count": null,
   "id": "59",
   "metadata": {},
   "outputs": [],
   "source": [
    "# Result from the last iteration\n",
    "vort"
   ]
  },
  {
   "cell_type": "markdown",
   "id": "60",
   "metadata": {},
   "source": [
    "## Writing the results to binary files"
   ]
  },
  {
   "cell_type": "markdown",
   "id": "61",
   "metadata": {},
   "source": [
    "In the last example we computed the vorticity but did nothing with it. This time, let's write it to the disc using [write](https://docs.fschuch.com/xcompact3d_toolbox/references/api-reference.html#xcompact3d_toolbox.io.Dataset.write):"
   ]
  },
  {
   "cell_type": "code",
   "execution_count": null,
   "id": "62",
   "metadata": {},
   "outputs": [],
   "source": [
    "for ds in prm.dataset:\n",
    "    vort = ds.uy.x3d.first_derivative(\"x\") - ds.ux.x3d.first_derivative(\"y\")\n",
    "    prm.dataset.write(data=vort, file_prefix=\"w3\")"
   ]
  },
  {
   "cell_type": "markdown",
   "id": "63",
   "metadata": {},
   "source": [
    "The example above works for a [xarray.DataArray](http://docs.xarray.dev/en/stable/generated/xarray.DataArray.html#xarray.DataArray). We can do it for a [xarray.Dataset](http://docs.xarray.dev/en/stable/generated/xarray.Dataset.html#xarray.Dataset) as well, but with one key difference. Only the arrays with an attribute called `file_name` will be written. It is done to avoid overwriting the base fields (`ux`, `uy`, `uz`, ...) by accident.\n",
    "\n",
    "Let's rewrite the previous example to store `vort` in the dataset `ds`. We set an attribute `file_name` to `w3`, so the arrays will be written as `w3-000.bin`, `w3-001.bin`, `w3-002.bin`, etc.\n",
    "\n",
    "We are also suppressing warnings, because the application will tell us it can not save `pp`, `ux` and `uy`, since they do not have a `file_name`. But in fact, we do not want to rewrite them anyway.\n",
    "\n",
    "See the code:"
   ]
  },
  {
   "cell_type": "code",
   "execution_count": null,
   "id": "64",
   "metadata": {
    "tags": []
   },
   "outputs": [],
   "source": [
    "with warnings.catch_warnings():\n",
    "    warnings.filterwarnings(\"ignore\", category=UserWarning)\n",
    "    for ds in prm.dataset:\n",
    "        ds[\"vort\"] = ds.uy.x3d.first_derivative(\"x\") - ds.ux.x3d.first_derivative(\"y\")\n",
    "        ds[\"vort\"].attrs[\"file_name\"] = \"w3\"\n",
    "        prm.dataset.write(ds)"
   ]
  },
  {
   "cell_type": "markdown",
   "id": "65",
   "metadata": {},
   "source": [
    "The method [prm.dataset.write()](https://xcompact3d-toolbox.readthedocs.io/en/stable/references/api-reference.html#xcompact3d_toolbox.io.Dataset.write) writes the files as raw binaries in the same way that [XCompact3d](https://github.com/xcompact3d/Incompact3d) would do. It means you can read them at the flow solver and also process them on any other tool that you are already familiar with, including the toolbox."
   ]
  },
  {
   "cell_type": "markdown",
   "id": "66",
   "metadata": {},
   "source": [
    "For instance, we get `w3` if we load snapshot 0 again:"
   ]
  },
  {
   "cell_type": "code",
   "execution_count": null,
   "id": "67",
   "metadata": {},
   "outputs": [],
   "source": [
    "prm.dataset[0]"
   ]
  },
  {
   "cell_type": "markdown",
   "id": "68",
   "metadata": {},
   "source": [
    "### Update the xdmf file"
   ]
  },
  {
   "cell_type": "markdown",
   "id": "69",
   "metadata": {},
   "source": [
    "After computing and writing new results to the disc, you can open them on any external tools, like Paraview or Visit. You can update the xdmf file to include the recently computed `w3`. See the code:"
   ]
  },
  {
   "cell_type": "code",
   "execution_count": null,
   "id": "70",
   "metadata": {},
   "outputs": [],
   "source": [
    "prm.dataset.write_xdmf(\"xy-planes.xdmf\")"
   ]
  },
  {
   "cell_type": "markdown",
   "id": "71",
   "metadata": {},
   "source": [
    "## Other formats"
   ]
  },
  {
   "cell_type": "markdown",
   "id": "72",
   "metadata": {},
   "source": [
    "Xarray objects can be exported to many other formats, depending on your needs.\n",
    "\n",
    "For instance, [xarray.DataArray](http://docs.xarray.dev/en/stable/generated/xarray.DataArray.html#xarray.DataArray) and [xarray.Dataset](http://docs.xarray.dev/en/stable/generated/xarray.Dataset.html#xarray.Dataset) can be written as [netCDF](http://docs.xarray.dev/en/stable/user-guide/io.html). In this way, they will keep all dimensions, coordinates, and attributes. This format is easier to handle and share because the files are self-sufficient. It is the format used to download the dataset used in this tutorial, and it is a good alternative to use when sharing the results of your research.\n",
    "\n",
    "Just to give you an estimation about the disk usage, the size of the dataset `cylinder.nc` that we downloaded for this tutorial is 75.8 MB. The size of the folder `./data/` after producing the binary files in the same way that [XCompact3d](https://github.com/xcompact3d/Incompact3d) would do is 75.7 MB."
   ]
  },
  {
   "cell_type": "markdown",
   "id": "73",
   "metadata": {},
   "source": [
    "To exemplify the use of netCDF, let's take one snapshot:"
   ]
  },
  {
   "cell_type": "code",
   "execution_count": null,
   "id": "74",
   "metadata": {},
   "outputs": [],
   "source": [
    "snapshot = prm.dataset[0]\n",
    "snapshot"
   ]
  },
  {
   "cell_type": "markdown",
   "id": "75",
   "metadata": {},
   "source": [
    "Now, let's include additional information for the ones that are going to use our data. You can set attributes for each array, coordinate, and also global attributes for the dataset. They are stored in a dictionary.\n",
    "\n",
    "See the example:"
   ]
  },
  {
   "cell_type": "code",
   "execution_count": null,
   "id": "76",
   "metadata": {},
   "outputs": [],
   "source": [
    "# Setting attributes for each coordinate\n",
    "snapshot.x.attrs = {\"name\": \"x\", \"long_name\": \"Stream-wise coordinate\", \"units\": \"-\"}\n",
    "snapshot.y.attrs = {\"name\": \"y\", \"long_name\": \"Vertical coordinate\", \"units\": \"-\"}\n",
    "snapshot.t.attrs = {\"name\": \"t\", \"long_name\": \"Time\", \"units\": \"-\"}\n",
    "\n",
    "# Setting attributes for each array\n",
    "snapshot.ux.attrs = {\"name\": \"ux\", \"long_name\": \"Stream-wise velocity\", \"units\": \"-\"}\n",
    "snapshot.uy.attrs = {\"name\": \"y\", \"long_name\": \"Vertical velocity\", \"units\": \"-\"}\n",
    "snapshot.pp.attrs = {\"name\": \"p\", \"long_name\": \"Pressure\", \"units\": \"-\"}\n",
    "snapshot.w3.attrs = {\"name\": \"w3\", \"long_name\": \"Vorticity\", \"units\": \"-\"}\n",
    "\n",
    "# Setting attributes for the dataset\n",
    "snapshot.attrs = {\n",
    "    \"title\": \"An example from the tutorials\",\n",
    "    \"url\": \"https://docs.fschuch.com/xcompact3d_toolbox/tutorial/io.html\",\n",
    "    \"authors\": \"List of names\",\n",
    "    \"doi\": \"maybe a fancy doi from zenodo\",\n",
    "}"
   ]
  },
  {
   "cell_type": "code",
   "execution_count": null,
   "id": "77",
   "metadata": {},
   "outputs": [],
   "source": [
    "# Setting attributes for each coordinate\n",
    "snapshot.x.attrs = {\"name\": \"x\", \"long_name\": \"Stream-wise coordinate\", \"units\": \"-\"}\n",
    "snapshot.y.attrs = {\"name\": \"y\", \"long_name\": \"Vertical coordinate\", \"units\": \"-\"}\n",
    "snapshot.t.attrs = {\"name\": \"t\", \"long_name\": \"Time\", \"units\": \"-\"}\n",
    "\n",
    "# Setting attributes for each array\n",
    "snapshot.ux.attrs = {\"name\": \"ux\", \"long_name\": \"Stream-wise velocity\", \"units\": \"-\"}\n",
    "snapshot.uy.attrs = {\"name\": \"y\", \"long_name\": \"Vertical velocity\", \"units\": \"-\"}\n",
    "snapshot.pp.attrs = {\"name\": \"p\", \"long_name\": \"Pressure\", \"units\": \"-\"}\n",
    "snapshot.w3.attrs = {\"name\": \"w3\", \"long_name\": \"Vorticity\", \"units\": \"-\"}\n",
    "\n",
    "# Setting attributes for the dataset\n",
    "snapshot.attrs = {\n",
    "    \"title\": \"An example from the tutorials\",\n",
    "    \"url\": \"https://docs.fschuch.com/xcompact3d_toolbox/tutorial/io.html\",\n",
    "    \"authors\": \"List of names\",\n",
    "    \"doi\": \"maybe a fancy doi from zenodo\",\n",
    "}"
   ]
  },
  {
   "cell_type": "code",
   "execution_count": null,
   "id": "78",
   "metadata": {},
   "outputs": [],
   "source": [
    "# Setting attributes for each coordinate\n",
    "snapshot.x.attrs = {\"name\": \"x\", \"long_name\": \"Stream-wise coordinate\", \"units\": \"-\"}\n",
    "snapshot.y.attrs = {\"name\": \"y\", \"long_name\": \"Vertical coordinate\", \"units\": \"-\"}\n",
    "snapshot.t.attrs = {\"name\": \"t\", \"long_name\": \"Time\", \"units\": \"-\"}\n",
    "\n",
    "# Setting attributes for each array\n",
    "snapshot.ux.attrs = {\"name\": \"ux\", \"long_name\": \"Stream-wise velocity\", \"units\": \"-\"}\n",
    "snapshot.uy.attrs = {\"name\": \"y\", \"long_name\": \"Vertical velocity\", \"units\": \"-\"}\n",
    "snapshot.pp.attrs = {\"name\": \"p\", \"long_name\": \"Pressure\", \"units\": \"-\"}\n",
    "snapshot.w3.attrs = {\"name\": \"w3\", \"long_name\": \"Vorticity\", \"units\": \"-\"}\n",
    "\n",
    "# Setting attributes for the dataset\n",
    "snapshot.attrs = {\n",
    "    \"title\": \"An example from the tutorials\",\n",
    "    \"url\": \"https://docs.fschuch.com/xcompact3d_toolbox/tutorial/io.html\",\n",
    "    \"authors\": \"List of names\",\n",
    "    \"doi\": \"maybe a fancy doi from zenodo\",\n",
    "}"
   ]
  },
  {
   "cell_type": "code",
   "execution_count": null,
   "id": "79",
   "metadata": {},
   "outputs": [],
   "source": [
    "# Setting attributes for each coordinate\n",
    "snapshot.x.attrs = {\"name\": \"x\", \"long_name\": \"Stream-wise coordinate\", \"units\": \"-\"}\n",
    "snapshot.y.attrs = {\"name\": \"y\", \"long_name\": \"Vertical coordinate\", \"units\": \"-\"}\n",
    "snapshot.t.attrs = {\"name\": \"t\", \"long_name\": \"Time\", \"units\": \"-\"}\n",
    "\n",
    "# Setting attributes for each array\n",
    "snapshot.ux.attrs = {\"name\": \"ux\", \"long_name\": \"Stream-wise velocity\", \"units\": \"-\"}\n",
    "snapshot.uy.attrs = {\"name\": \"y\", \"long_name\": \"Vertical velocity\", \"units\": \"-\"}\n",
    "snapshot.pp.attrs = {\"name\": \"p\", \"long_name\": \"Pressure\", \"units\": \"-\"}\n",
    "snapshot.w3.attrs = {\"name\": \"w3\", \"long_name\": \"Vorticity\", \"units\": \"-\"}\n",
    "\n",
    "# Setting attributes for the dataset\n",
    "snapshot.attrs = {\n",
    "    \"title\": \"An example from the tutorials\",\n",
    "    \"url\": \"https://docs.fschuch.com/xcompact3d_toolbox/tutorial/io.html\",\n",
    "    \"authors\": \"List of names\",\n",
    "    \"doi\": \"maybe a fancy doi from zenodo\",\n",
    "}"
   ]
  },
  {
   "cell_type": "markdown",
   "id": "80",
   "metadata": {},
   "source": [
    "Exporting it as a netCDF file:"
   ]
  },
  {
   "cell_type": "code",
   "execution_count": null,
   "id": "81",
   "metadata": {},
   "outputs": [],
   "source": [
    "snapshot.to_netcdf(\"snapshot-000.nc\")"
   ]
  },
  {
   "cell_type": "markdown",
   "id": "82",
   "metadata": {},
   "source": [
    "Importing the netCDF file:"
   ]
  },
  {
   "cell_type": "code",
   "execution_count": null,
   "id": "83",
   "metadata": {},
   "outputs": [],
   "source": [
    "snapshot_in = xr.open_dataset(\"snapshot-000.nc\")"
   ]
  },
  {
   "cell_type": "markdown",
   "id": "84",
   "metadata": {},
   "source": [
    "See the result, it keeps all dimensions, coordinates, and attributes:"
   ]
  },
  {
   "cell_type": "code",
   "execution_count": null,
   "id": "85",
   "metadata": {},
   "outputs": [],
   "source": [
    "snapshot_in"
   ]
  },
  {
   "cell_type": "markdown",
   "id": "86",
   "metadata": {},
   "source": [
    "We can compare them and see that their data, dimensions and coordinates are exactly the same:"
   ]
  },
  {
   "cell_type": "code",
   "execution_count": null,
   "id": "87",
   "metadata": {},
   "outputs": [],
   "source": [
    "xr.testing.assert_equal(snapshot, snapshot_in)"
   ]
  },
  {
   "cell_type": "markdown",
   "id": "88",
   "metadata": {},
   "source": [
    "Xarray is built on top of Numpy, so you can access a `numpy.ndarray` object with the property `values` (i.g., `epsilon.values`). It is compatible with `numpy.save` and many other methods from the Numpy/SciPy ecosystem (many times, you do not even need to explicitly use `.values`). See the example:"
   ]
  },
  {
   "cell_type": "code",
   "execution_count": null,
   "id": "89",
   "metadata": {},
   "outputs": [],
   "source": [
    "np.save(\"epsi.npy\", epsilon)\n",
    "epsi_in = np.load(\"epsi.npy\")\n",
    "\n",
    "print(type(epsi_in))\n",
    "epsi_in"
   ]
  },
  {
   "cell_type": "markdown",
   "id": "90",
   "metadata": {},
   "source": [
    "You can use it for backwards compatibility with your previous post-processing tools. It is just not so effective, because we lost track of metadata like the coordinates and attributes."
   ]
  },
  {
   "cell_type": "markdown",
   "id": "91",
   "metadata": {},
   "source": [
    "If you manage to reduce the dataset's dimensions with some [integration](https://docs.xarray.dev/en/stablegenerated/xarray.Dataset.integrate.html), [mean](https://docs.xarray.dev/en/stablegenerated/xarray.Dataset.mean.html), or [selecting](https://docs.xarray.dev/en/stablegenerated/xarray.Dataset.sel.html) subsets of data, you can convert it to a [pandas.Dataframe](https://pandas.pydata.org/docs/reference/api/pandas.DataFrame.html) and then export it to CSV, Excel, and many other options."
   ]
  },
  {
   "cell_type": "markdown",
   "id": "92",
   "metadata": {},
   "source": [
    "For instance, let's select a vertical profile for all variables where `x = 20` and [convert it to a dataframe](https://docs.xarray.dev/en/stable/generated/xarray.Dataset.to_dataframe.html):"
   ]
  },
  {
   "cell_type": "code",
   "execution_count": null,
   "id": "93",
   "metadata": {},
   "outputs": [],
   "source": []
  },
  {
   "cell_type": "code",
   "execution_count": null,
   "id": "94",
   "metadata": {},
   "outputs": [],
   "source": [
    "snapshot_in.sel(x=20.0).to_dataframe()"
   ]
  },
  {
   "cell_type": "markdown",
   "id": "95",
   "metadata": {},
   "source": [
    "Now, you can refer to [pandas documentation](https://pandas.pydata.org/pandas-docs/stable/index.html) for more details."
   ]
  }
 ],
 "metadata": {
  "interpreter": {
   "hash": "546d5beeb22119d9a20f6c19239ae627cc2b69f70be285d1d696980c89f3c939"
  },
  "kernelspec": {
   "display_name": "Python 3.9.5 64-bit ('idp': conda)",
   "name": "python3"
  },
  "language_info": {
   "codemirror_mode": {
    "name": "ipython",
    "version": 3
   },
   "file_extension": ".py",
   "mimetype": "text/x-python",
   "name": "python",
   "nbconvert_exporter": "python",
   "pygments_lexer": "ipython3",
   "version": "3.9.5"
  }
 },
 "nbformat": 4,
 "nbformat_minor": 5
}
